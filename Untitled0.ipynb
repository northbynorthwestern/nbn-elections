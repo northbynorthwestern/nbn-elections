{
 "metadata": {
  "name": "",
  "signature": "sha256:37bcc3716073fd244a08cd995dbcaeb9e5855d0ae24345d79ecbf5c636051c2a"
 },
 "nbformat": 3,
 "nbformat_minor": 0,
 "worksheets": []
}